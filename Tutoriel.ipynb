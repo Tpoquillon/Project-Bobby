{
 "cells": [
  {
   "cell_type": "markdown",
   "metadata": {},
   "source": [
    "# Tutoriel Bobby"
   ]
  },
  {
   "cell_type": "markdown",
   "metadata": {},
   "source": [
    "##### pour installer la librairie ProjectBobby utiliser dans le terminal la commande suivante: \n",
    "###### pip3 install --index-url https://test.pypi.org/simple/ --no-deps ProjectBobby"
   ]
  },
  {
   "cell_type": "markdown",
   "metadata": {},
   "source": [
    "## __**1 - Créer son premier Génome**__\n"
   ]
  },
  {
   "cell_type": "markdown",
   "metadata": {},
   "source": [
    "Un génome, c'est ce qui fait l'identité de votre individu, c'est là que se trouve l'information décrivant comment il réagit à son environement. Il est caractérisé par le nombre d'information qu'il peut utiliser et le nombre de décision qu'il peut prendre à partir de ces informations."
   ]
  },
  {
   "cell_type": "code",
   "execution_count": 1,
   "metadata": {},
   "outputs": [],
   "source": [
    "from ProjectBobby import Genome\n",
    "\n",
    "monGenome= Genome.Genome(4,3)"
   ]
  },
  {
   "cell_type": "markdown",
   "metadata": {},
   "source": [
    " Les nombres de ces informations et décision est contenue dans les atributs **I_** et **O_**"
   ]
  },
  {
   "cell_type": "code",
   "execution_count": 2,
   "metadata": {},
   "outputs": [
    {
     "name": "stdout",
     "output_type": "stream",
     "text": [
      "Longeure de l'Imput: 4 Longeure de l'Output: 3\n"
     ]
    }
   ],
   "source": [
    "print(\"Longeure de l'Imput:\",monGenome.I_,\"Longeure de l'Output:\" ,monGenome.O_)"
   ]
  },
  {
   "cell_type": "markdown",
   "metadata": {},
   "source": [
    "Le principale atribut de Genome est sa matrice de décision **Map_**. C'est elle qui permetra de lier ce que voit un individu aux actions qu'il veut faire. Dans notre exemple notre génome peut lier 4 informations (Input ) à 3 actions (Output)."
   ]
  },
  {
   "cell_type": "code",
   "execution_count": 3,
   "metadata": {},
   "outputs": [
    {
     "data": {
      "text/plain": [
       "array([[0., 0., 0.],\n",
       "       [0., 0., 0.],\n",
       "       [0., 0., 0.],\n",
       "       [0., 0., 0.]])"
      ]
     },
     "execution_count": 3,
     "metadata": {},
     "output_type": "execute_result"
    }
   ],
   "source": [
    "monGenome.Map_"
   ]
  },
  {
   "cell_type": "markdown",
   "metadata": {},
   "source": [
    "Les valeurs de la matrices corespondent aux connections. Un 1 à la position (i,j) représente une arête reliant l'imput i à l'output j de poid 1. Pour le moment, notre matrice est vide, il n'y a aucune connection entre nos imput et nos output."
   ]
  },
  {
   "cell_type": "markdown",
   "metadata": {},
   "source": [
    "## __**2 - Modifier un Génome**__"
   ]
  },
  {
   "cell_type": "markdown",
   "metadata": {},
   "source": [
    "On peut rajouter une connection avec la fonction **Add_Connection** entre le premier Input et le premier Output"
   ]
  },
  {
   "cell_type": "code",
   "execution_count": 4,
   "metadata": {},
   "outputs": [
    {
     "data": {
      "text/plain": [
       "array([[1., 0., 0.],\n",
       "       [0., 0., 0.],\n",
       "       [0., 0., 0.],\n",
       "       [0., 0., 0.]])"
      ]
     },
     "execution_count": 4,
     "metadata": {},
     "output_type": "execute_result"
    }
   ],
   "source": [
    "monGenome.Add_Connection(0,0)\n",
    "monGenome.Map_"
   ]
  },
  {
   "cell_type": "markdown",
   "metadata": {},
   "source": [
    "On peut aussi choisir le poid de la connection, qui est par défaut de 1"
   ]
  },
  {
   "cell_type": "code",
   "execution_count": 5,
   "metadata": {},
   "outputs": [
    {
     "data": {
      "text/plain": [
       "array([[1. , 0. , 0. ],\n",
       "       [0. , 0.5, 0. ],\n",
       "       [0. , 0. , 0. ],\n",
       "       [0. , 0. , 0. ]])"
      ]
     },
     "execution_count": 5,
     "metadata": {},
     "output_type": "execute_result"
    }
   ],
   "source": [
    "monGenome.Add_Connection(1,1,Value=0.5)\n",
    "monGenome.Map_"
   ]
  },
  {
   "cell_type": "markdown",
   "metadata": {},
   "source": [
    "## __**3 - faire muter un Génome**__\n"
   ]
  },
  {
   "cell_type": "markdown",
   "metadata": {},
   "source": [
    "Bobby est outils qui des processus naturel d'évolution pour répondre à des problèmes complexes. Ce phénomène peut être résumé à deux composantes: mutations et sellections. Nous vairons dans cette partie comment faire muter le génome créer précédament.\n",
    "Pour cela on utilise la methode **Add_Random_Connection** qui prend en parametre un poid et qui modifie l'objet Genome en remplacent le poids d'une des arête de son graphe de décision par le poid passé en parametre."
   ]
  },
  {
   "cell_type": "code",
   "execution_count": 6,
   "metadata": {},
   "outputs": [
    {
     "data": {
      "text/plain": [
       "array([[1. , 0. , 0. ],\n",
       "       [0. , 0.5, 0. ],\n",
       "       [0. , 0. , 0. ],\n",
       "       [0. , 0. , 0. ]])"
      ]
     },
     "execution_count": 6,
     "metadata": {},
     "output_type": "execute_result"
    }
   ],
   "source": [
    "monGenome.Map_"
   ]
  },
  {
   "cell_type": "code",
   "execution_count": 7,
   "metadata": {},
   "outputs": [
    {
     "data": {
      "text/plain": [
       "array([[1. , 0. , 0. ],\n",
       "       [0. , 0.5, 0. ],\n",
       "       [0. , 0. , 8. ],\n",
       "       [0. , 0. , 0. ]])"
      ]
     },
     "execution_count": 7,
     "metadata": {},
     "output_type": "execute_result"
    }
   ],
   "source": [
    "monGenome.Add_Random_Connection(8)\n",
    "monGenome.Map_"
   ]
  },
  {
   "cell_type": "markdown",
   "metadata": {},
   "source": [
    "## __**4 - Prise de décision**__"
   ]
  },
  {
   "cell_type": "markdown",
   "metadata": {},
   "source": [
    "Il est maintenant temps d'utilser cette matrice pour faire prendre à notre génome sa première décision. Pour cela, on utilisera la fonction Processing. Elle prend en entré un vecteur de Bouléen décrivant l'environement de l'individu et renvoi un autre vecteur de Bouléen corespondant aux actions que l'individu choisira de faire en conséquence.Un environement peur être est composé de case pleines (**True**) et de cases vides(**False**)"
   ]
  },
  {
   "cell_type": "code",
   "execution_count": 8,
   "metadata": {},
   "outputs": [
    {
     "data": {
      "text/plain": [
       "array([ True, False, False])"
      ]
     },
     "execution_count": 8,
     "metadata": {},
     "output_type": "execute_result"
    }
   ],
   "source": [
    "monGenome.Processing([True,False,False,False])"
   ]
  },
  {
   "cell_type": "code",
   "execution_count": 9,
   "metadata": {},
   "outputs": [
    {
     "data": {
      "text/plain": [
       "array([False,  True,  True])"
      ]
     },
     "execution_count": 9,
     "metadata": {},
     "output_type": "execute_result"
    }
   ],
   "source": [
    "monGenome.Processing([False,True,True,True])"
   ]
  },
  {
   "cell_type": "markdown",
   "metadata": {},
   "source": [
    "#### Voilà, vous avez eue un premier apercu des possibilitées ofertes par le génome de Bobby, suivez notre page https://github.com/Tpoquillon/Project-Bobby pour vous tenir informer des avancées de nos projets\n"
   ]
  },
  {
   "cell_type": "code",
   "execution_count": null,
   "metadata": {},
   "outputs": [],
   "source": []
  }
 ],
 "metadata": {
  "kernelspec": {
   "display_name": "Python 3",
   "language": "python",
   "name": "python3"
  },
  "language_info": {
   "codemirror_mode": {
    "name": "ipython",
    "version": 3
   },
   "file_extension": ".py",
   "mimetype": "text/x-python",
   "name": "python",
   "nbconvert_exporter": "python",
   "pygments_lexer": "ipython3",
   "version": "3.7.6"
  }
 },
 "nbformat": 4,
 "nbformat_minor": 2
}
